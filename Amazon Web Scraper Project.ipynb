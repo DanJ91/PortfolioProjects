{
 "cells": [
  {
   "cell_type": "code",
   "execution_count": 13,
   "id": "73ca3091",
   "metadata": {},
   "outputs": [],
   "source": [
    "# import libraries\n",
    "from bs4 import BeautifulSoup\n",
    "import requests\n",
    "import time\n",
    "import datetime\n",
    "import csv\n",
    "import pandas as pd"
   ]
  },
  {
   "cell_type": "code",
   "execution_count": 6,
   "id": "e8e89e3d",
   "metadata": {
    "scrolled": true
   },
   "outputs": [
    {
     "name": "stdout",
     "output_type": "stream",
     "text": [
      "Product Title: Python for Data Analysis 3e: Data Wrangling with pandas, NumPy, and Jupyter\n",
      "Price: 45.42\n"
     ]
    }
   ],
   "source": [
    "url = \"https://www.amazon.co.uk/Python-Data-Analysis-3e-Wrangling/dp/109810403X/ref=sr_1_1?crid=2EIZQ2LJDK1ES&dib=eyJ2IjoiMSJ9.fBt8HKJe7ziYEGGWkCp60JcyExqHYZF42Bj2sgmFskoldj-xh-a4aiJHK_-jVTwRe9Gb2vcZXZPS50iQVBtWzcUMLW70Clrv4_wTEgtLpvqebVU5fxpn_pll8EpdjgyjFc9vhD0J-SRznRt3QwrBWiRWp2mPQ_f6ayVVyygUgcsu1f3Wx-0tf8QWFfEDPGcluBl6Ikc7GpCQaaazehe3NHfbZMNTyI2kVmhD8PiX2_A.No4IeXT0upQB4nX2Wi62oMNCrkGwkLoXSYwD6WJtDw4&dib_tag=se&keywords=python+for+data+analysis&qid=1715130477&sprefix=python+for+%2Caps%2C390&sr=8-1\"\n",
    "\n",
    "headers = {\"User-Agent\": \"Mozilla/5.0 (Windows NT 10.0; Win64; x64) AppleWebKit/537.36 (KHTML, like Gecko) Chrome/124.0.0.0 Safari/537.36 Edg/124.0.0.0\"}\n",
    "\n",
    "page = requests.get(url, headers=headers)\n",
    "\n",
    "soup = BeautifulSoup(page.content, \"html.parser\")\n",
    "\n",
    "# Extracting the title of the product\n",
    "title = soup.find(id=\"productTitle\").get_text().strip()\n",
    "\n",
    "# Extracting the whole price, and fractional price\n",
    "whole_price_element = soup.find(\"span\", class_=\"a-price-whole\").get_text().strip()\n",
    "fraction_price_element = soup.find(\"span\", class_=\"a-price-fraction\").get_text().strip()\n",
    "\n",
    "# Combining the whole price, fractional price, and price symbol into a single variable\n",
    "price = whole_price_element + fraction_price_element\n",
    "\n",
    "print(\"Product Title:\", title)\n",
    "print(\"Price:\", price)\n",
    "\n",
    "\n"
   ]
  },
  {
   "cell_type": "code",
   "execution_count": 11,
   "id": "7571c051",
   "metadata": {},
   "outputs": [
    {
     "name": "stdout",
     "output_type": "stream",
     "text": [
      "2024-05-09\n"
     ]
    }
   ],
   "source": [
    "# Getting todays date\n",
    "import datetime\n",
    "\n",
    "today = datetime.date.today()\n",
    "\n",
    "print(today)"
   ]
  },
  {
   "cell_type": "code",
   "execution_count": 12,
   "id": "f62f3bc1",
   "metadata": {
    "scrolled": true
   },
   "outputs": [],
   "source": [
    "# Create a CSV file\n",
    "header = [\"Title\", \"Price\", \"Date\"]\n",
    "data = [title, price, today]\n",
    "\n",
    "# with open(\"AmazonWebScraperDataset.csv\", \"w\", newline=\"\", encoding=\"UTF8\") as f:\n",
    "    # writer = csv.writer(f)\n",
    "    # writer.writerow(header)\n",
    "    # writer.writerow(data)\n",
    "   "
   ]
  },
  {
   "cell_type": "code",
   "execution_count": 17,
   "id": "ec3e7825",
   "metadata": {},
   "outputs": [
    {
     "data": {
      "text/html": [
       "<div>\n",
       "<style scoped>\n",
       "    .dataframe tbody tr th:only-of-type {\n",
       "        vertical-align: middle;\n",
       "    }\n",
       "\n",
       "    .dataframe tbody tr th {\n",
       "        vertical-align: top;\n",
       "    }\n",
       "\n",
       "    .dataframe thead th {\n",
       "        text-align: right;\n",
       "    }\n",
       "</style>\n",
       "<table border=\"1\" class=\"dataframe\">\n",
       "  <thead>\n",
       "    <tr style=\"text-align: right;\">\n",
       "      <th></th>\n",
       "      <th>Title</th>\n",
       "      <th>Price</th>\n",
       "      <th>Date</th>\n",
       "    </tr>\n",
       "  </thead>\n",
       "  <tbody>\n",
       "    <tr>\n",
       "      <th>0</th>\n",
       "      <td>Python for Data Analysis 3e: Data Wrangling wi...</td>\n",
       "      <td>45.42</td>\n",
       "      <td>2024-05-09</td>\n",
       "    </tr>\n",
       "    <tr>\n",
       "      <th>1</th>\n",
       "      <td>Python for Data Analysis 3e: Data Wrangling wi...</td>\n",
       "      <td>45.42</td>\n",
       "      <td>2024-05-09</td>\n",
       "    </tr>\n",
       "  </tbody>\n",
       "</table>\n",
       "</div>"
      ],
      "text/plain": [
       "                                               Title  Price        Date\n",
       "0  Python for Data Analysis 3e: Data Wrangling wi...  45.42  2024-05-09\n",
       "1  Python for Data Analysis 3e: Data Wrangling wi...  45.42  2024-05-09"
      ]
     },
     "execution_count": 17,
     "metadata": {},
     "output_type": "execute_result"
    }
   ],
   "source": [
    "# Open the file\n",
    "df = pd.read_csv(r\"C:\\Users\\DanFennell\\AmazonWebScraperDataset.csv\")\n",
    "df"
   ]
  },
  {
   "cell_type": "code",
   "execution_count": 16,
   "id": "8b802523",
   "metadata": {},
   "outputs": [],
   "source": [
    "# Append data to the CSV\n",
    "\n",
    "with open(\"AmazonWebScraperDataset.csv\", \"a+\", newline=\"\", encoding=\"UTF8\") as f:\n",
    "    writer = csv.writer(f)\n",
    "    # add the new data\n",
    "    writer.writerow(data)"
   ]
  },
  {
   "cell_type": "code",
   "execution_count": 18,
   "id": "829528cd",
   "metadata": {},
   "outputs": [],
   "source": [
    "# Create a function\n",
    "def check_price():\n",
    "    url = \"https://www.amazon.co.uk/Python-Data-Analysis-3e-Wrangling/dp/109810403X/ref=sr_1_1?crid=2EIZQ2LJDK1ES&dib=eyJ2IjoiMSJ9.fBt8HKJe7ziYEGGWkCp60JcyExqHYZF42Bj2sgmFskoldj-xh-a4aiJHK_-jVTwRe9Gb2vcZXZPS50iQVBtWzcUMLW70Clrv4_wTEgtLpvqebVU5fxpn_pll8EpdjgyjFc9vhD0J-SRznRt3QwrBWiRWp2mPQ_f6ayVVyygUgcsu1f3Wx-0tf8QWFfEDPGcluBl6Ikc7GpCQaaazehe3NHfbZMNTyI2kVmhD8PiX2_A.No4IeXT0upQB4nX2Wi62oMNCrkGwkLoXSYwD6WJtDw4&dib_tag=se&keywords=python+for+data+analysis&qid=1715130477&sprefix=python+for+%2Caps%2C390&sr=8-1\"\n",
    "\n",
    "    headers = {\"User-Agent\": \"Mozilla/5.0 (Windows NT 10.0; Win64; x64) AppleWebKit/537.36 (KHTML, like Gecko) Chrome/124.0.0.0 Safari/537.36 Edg/124.0.0.0\"}\n",
    "\n",
    "    page = requests.get(url, headers=headers)\n",
    "\n",
    "    soup = BeautifulSoup(page.content, \"html.parser\")\n",
    "\n",
    "    # Extracting the title of the product\n",
    "    title = soup.find(id=\"productTitle\").get_text().strip()\n",
    "\n",
    "    # Extracting the whole price, and fractional price\n",
    "    whole_price_element = soup.find(\"span\", class_=\"a-price-whole\").get_text().strip()\n",
    "    fraction_price_element = soup.find(\"span\", class_=\"a-price-fraction\").get_text().strip()\n",
    "\n",
    "    # Combining the whole price, fractional price, and price symbol into a single variable\n",
    "    price = whole_price_element + fraction_price_element\n",
    "    \n",
    "    import datetime\n",
    "\n",
    "    today = datetime.date.today()\n",
    "    \n",
    "    # Create a CSV file\n",
    "    header = [\"Title\", \"Price\", \"Date\"]\n",
    "    data = [title, price, today]\n",
    "    \n",
    "    # Append data to the CSV\n",
    "\n",
    "    with open(\"AmazonWebScraperDataset.csv\", \"a+\", newline=\"\", encoding=\"UTF8\") as f:\n",
    "        writer = csv.writer(f)\n",
    "        # add the new data\n",
    "        writer.writerow(data)"
   ]
  },
  {
   "cell_type": "code",
   "execution_count": null,
   "id": "8903f97d",
   "metadata": {},
   "outputs": [],
   "source": [
    "# Run the function every 24 hours (86400 seconds)\n",
    "while(True):\n",
    "    check_price()\n",
    "    time.sleep(86400)"
   ]
  },
  {
   "cell_type": "code",
   "execution_count": null,
   "id": "40adebaf",
   "metadata": {},
   "outputs": [],
   "source": [
    "df = pd.read_csv(r\"C:\\Users\\DanFennell\\AmazonWebScraperDataset.csv\")\n",
    "df"
   ]
  },
  {
   "cell_type": "code",
   "execution_count": null,
   "id": "9b952822",
   "metadata": {},
   "outputs": [],
   "source": []
  }
 ],
 "metadata": {
  "kernelspec": {
   "display_name": "Python 3 (ipykernel)",
   "language": "python",
   "name": "python3"
  },
  "language_info": {
   "codemirror_mode": {
    "name": "ipython",
    "version": 3
   },
   "file_extension": ".py",
   "mimetype": "text/x-python",
   "name": "python",
   "nbconvert_exporter": "python",
   "pygments_lexer": "ipython3",
   "version": "3.11.5"
  }
 },
 "nbformat": 4,
 "nbformat_minor": 5
}
